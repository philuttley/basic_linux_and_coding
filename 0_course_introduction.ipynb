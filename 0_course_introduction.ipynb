{
 "cells": [
  {
   "cell_type": "markdown",
   "metadata": {
    "slideshow": {
     "slide_type": "slide"
    }
   },
   "source": [
    "# Basic Linux and Coding\n",
    "*Phil Uttley & Dimitris Kantzas | University of Amsterdam*\n",
    "\n",
    "*Slides & witty segue comments based on originals by David Gardenier & Christian Ginski*"
   ]
  },
  {
   "cell_type": "markdown",
   "metadata": {
    "slideshow": {
     "slide_type": "subslide"
    }
   },
   "source": [
    "## Your teachers\n",
    "\n",
    "* *Phil Uttley (Lecturer/course co-ordinator)*\n",
    "  * Research: X-rays from black holes\n",
    "  * Contact: p.uttley@uva.nl\n",
    "* *Dimitris Kantzas (TA)* \n",
    "  * Research: Emission from relativistic jets\n",
    "  * Contact: d.kantzas@uva.nl"
   ]
  },
  {
   "cell_type": "markdown",
   "metadata": {
    "slideshow": {
     "slide_type": "subslide"
    }
   },
   "source": [
    "## Course setup\n",
    "\n",
    "* Lecture once a week (monday this week, tuesday remaining weeks) + friday tutorial for help from us\n",
    "* Exam in the eighth week\n",
    "* Self study and assignments in between"
   ]
  },
  {
   "cell_type": "markdown",
   "metadata": {
    "slideshow": {
     "slide_type": "subslide"
    }
   },
   "source": [
    "## Assignments and exam\n",
    "\n",
    "* Up to 6 Assignments for practice, but to encourage: 2% (marked 0/1/2) per assignment\n",
    "* No deadlines, we give feedback each week on what you have done\n",
    "* Final grades based on what you have completed by end of course (Fri Oct 18)\n",
    "* Most of grade: final written exam with Linux/coding questions"
   ]
  },
  {
   "cell_type": "markdown",
   "metadata": {
    "slideshow": {
     "slide_type": "subslide"
    }
   },
   "source": [
    "## Help\n",
    "\n",
    "You can find help on multiple levels\n",
    "\n",
    "1. Fellow students (including friendly 2nd-year Msc students!)\n",
    "2. Internet / Google / Stack Exchange\n",
    "3. Teachers (note: no 'office hour' as 2 tutorials per week for help)\n",
    "4. We will give feedback on assignments as we go"
   ]
  },
  {
   "cell_type": "markdown",
   "metadata": {
    "slideshow": {
     "slide_type": "subslide"
    }
   },
   "source": [
    "## Course contents\n",
    "\n",
    "1. Linux and Bash\n",
    "2. Python introduction\n",
    "3. Programming style\n",
    "4. File I/O, Numpy and Matplotlib\n",
    "5. Pandas and Scipy\n",
    "6. Astropy\n",
    "7. Programming extras\n",
    "8. Exam"
   ]
  },
  {
   "cell_type": "markdown",
   "metadata": {
    "slideshow": {
     "slide_type": "slide"
    }
   },
   "source": [
    "## Your skills"
   ]
  },
  {
   "cell_type": "markdown",
   "metadata": {
    "slideshow": {
     "slide_type": "subslide"
    }
   },
   "source": [
    "* Who has used Linux before?"
   ]
  },
  {
   "cell_type": "markdown",
   "metadata": {
    "slideshow": {
     "slide_type": "subslide"
    }
   },
   "source": [
    "* Who has programmed before?"
   ]
  },
  {
   "cell_type": "markdown",
   "metadata": {
    "slideshow": {
     "slide_type": "subslide"
    }
   },
   "source": [
    "* Who has used Bash before?"
   ]
  },
  {
   "cell_type": "markdown",
   "metadata": {
    "slideshow": {
     "slide_type": "subslide"
    }
   },
   "source": [
    "* Who has used Python before?"
   ]
  },
  {
   "cell_type": "markdown",
   "metadata": {
    "slideshow": {
     "slide_type": "subslide"
    }
   },
   "source": [
    "* Who knows the names of the people sitting next to them?"
   ]
  },
  {
   "cell_type": "markdown",
   "metadata": {
    "slideshow": {
     "slide_type": "slide"
    }
   },
   "source": [
    "## Resources\n",
    "\n",
    "can be found on https://github.com/philuttley/basic_linux_and_coding, including\n",
    "\n",
    " * All the lectures\n",
    " * Assignments\n",
    " * Old exam\n",
    " * Old syllabus"
   ]
  },
  {
   "cell_type": "code",
   "execution_count": null,
   "metadata": {},
   "outputs": [],
   "source": []
  }
 ],
 "metadata": {
  "celltoolbar": "Slideshow",
  "kernelspec": {
   "display_name": "Python 3",
   "language": "python",
   "name": "python3"
  },
  "language_info": {
   "codemirror_mode": {
    "name": "ipython",
    "version": 3
   },
   "file_extension": ".py",
   "mimetype": "text/x-python",
   "name": "python",
   "nbconvert_exporter": "python",
   "pygments_lexer": "ipython3",
   "version": "3.7.1"
  },
  "toc": {
   "base_numbering": 1,
   "nav_menu": {},
   "number_sections": true,
   "sideBar": false,
   "skip_h1_title": true,
   "title_cell": "Table of Contents",
   "title_sidebar": "Contents",
   "toc_cell": false,
   "toc_position": {},
   "toc_section_display": true,
   "toc_window_display": false
  }
 },
 "nbformat": 4,
 "nbformat_minor": 2
}
