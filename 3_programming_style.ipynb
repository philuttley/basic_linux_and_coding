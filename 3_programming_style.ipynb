{
 "cells": [
  {
   "cell_type": "markdown",
   "metadata": {
    "slideshow": {
     "slide_type": "slide"
    }
   },
   "source": [
    "# Programming style"
   ]
  },
  {
   "cell_type": "markdown",
   "metadata": {
    "slideshow": {
     "slide_type": "notes"
    },
    "toc": true
   },
   "source": [
    "<h1>Table of Contents<span class=\"tocSkip\"></span></h1>\n",
    "<div class=\"toc\"><ul class=\"toc-item\"><li><span><a href=\"#Libraries\" data-toc-modified-id=\"Libraries-1\"><span class=\"toc-item-num\">1&nbsp;&nbsp;</span>Libraries</a></span></li><li><span><a href=\"#Functions\" data-toc-modified-id=\"Functions-2\"><span class=\"toc-item-num\">2&nbsp;&nbsp;</span>Functions</a></span><ul class=\"toc-item\"><li><span><a href=\"#Scope-and-namespaces\" data-toc-modified-id=\"Scope-and-namespaces-2.1\"><span class=\"toc-item-num\">2.1&nbsp;&nbsp;</span>Scope and namespaces</a></span></li></ul></li><li><span><a href=\"#Classes\" data-toc-modified-id=\"Classes-3\"><span class=\"toc-item-num\">3&nbsp;&nbsp;</span>Classes</a></span></li><li><span><a href=\"#Program-structure\" data-toc-modified-id=\"Program-structure-4\"><span class=\"toc-item-num\">4&nbsp;&nbsp;</span>Program structure</a></span><ul class=\"toc-item\"><li><span><a href=\"#Example\" data-toc-modified-id=\"Example-4.1\"><span class=\"toc-item-num\">4.1&nbsp;&nbsp;</span>Example</a></span></li><li><span><a href=\"#Pep8\" data-toc-modified-id=\"Pep8-4.2\"><span class=\"toc-item-num\">4.2&nbsp;&nbsp;</span>Pep8</a></span></li><li><span><a href=\"#if-__name__-==-'__main__'\" data-toc-modified-id=\"if-__name__-==-'__main__'-4.3\"><span class=\"toc-item-num\">4.3&nbsp;&nbsp;</span><code>if __name__ == '__main__'</code></a></span></li><li><span><a href=\"#Some-conventions-you-should-know\" data-toc-modified-id=\"Some-conventions-you-should-know-4.4\"><span class=\"toc-item-num\">4.4&nbsp;&nbsp;</span>Some conventions you should know</a></span></li><li><span><a href=\"#Shebang\" data-toc-modified-id=\"Shebang-4.5\"><span class=\"toc-item-num\">4.5&nbsp;&nbsp;</span>Shebang</a></span></li></ul></li><li><span><a href=\"#Documentation\" data-toc-modified-id=\"Documentation-5\"><span class=\"toc-item-num\">5&nbsp;&nbsp;</span>Documentation</a></span><ul class=\"toc-item\"><li><ul class=\"toc-item\"><li><span><a href=\"#Comments\" data-toc-modified-id=\"Comments-5.0.1\"><span class=\"toc-item-num\">5.0.1&nbsp;&nbsp;</span>Comments</a></span></li><li><span><a href=\"#Docstrings\" data-toc-modified-id=\"Docstrings-5.0.2\"><span class=\"toc-item-num\">5.0.2&nbsp;&nbsp;</span>Docstrings</a></span></li></ul></li></ul></li><li><span><a href=\"#Error-handling\" data-toc-modified-id=\"Error-handling-6\"><span class=\"toc-item-num\">6&nbsp;&nbsp;</span>Error handling</a></span></li><li><span><a href=\"#Project-setup\" data-toc-modified-id=\"Project-setup-7\"><span class=\"toc-item-num\">7&nbsp;&nbsp;</span>Project setup</a></span><ul class=\"toc-item\"><li><span><a href=\"#Virtual-Environment\" data-toc-modified-id=\"Virtual-Environment-7.1\"><span class=\"toc-item-num\">7.1&nbsp;&nbsp;</span>Virtual Environment</a></span></li><li><span><a href=\"#Conda\" data-toc-modified-id=\"Conda-7.2\"><span class=\"toc-item-num\">7.2&nbsp;&nbsp;</span>Conda</a></span></li><li><span><a href=\"#Directory-structure\" data-toc-modified-id=\"Directory-structure-7.3\"><span class=\"toc-item-num\">7.3&nbsp;&nbsp;</span>Directory structure</a></span><ul class=\"toc-item\"><li><span><a href=\"#Licenses\" data-toc-modified-id=\"Licenses-7.3.1\"><span class=\"toc-item-num\">7.3.1&nbsp;&nbsp;</span>Licenses</a></span></li></ul></li></ul></li><li><span><a href=\"#Getting-help\" data-toc-modified-id=\"Getting-help-8\"><span class=\"toc-item-num\">8&nbsp;&nbsp;</span>Getting help</a></span><ul class=\"toc-item\"><li><span><a href=\"#Follow-the-spiders-traceback\" data-toc-modified-id=\"Follow-the-spiders-traceback-8.1\"><span class=\"toc-item-num\">8.1&nbsp;&nbsp;</span>Follow the <del>spiders</del> traceback</a></span></li><li><span><a href=\"#Stackoverflow\" data-toc-modified-id=\"Stackoverflow-8.2\"><span class=\"toc-item-num\">8.2&nbsp;&nbsp;</span>Stackoverflow</a></span></li><li><span><a href=\"#Python-Documentation\" data-toc-modified-id=\"Python-Documentation-8.3\"><span class=\"toc-item-num\">8.3&nbsp;&nbsp;</span>Python Documentation</a></span></li><li><span><a href=\"#Manuals\" data-toc-modified-id=\"Manuals-8.4\"><span class=\"toc-item-num\">8.4&nbsp;&nbsp;</span>Manuals</a></span></li></ul></li></ul></div>"
   ]
  },
  {
   "cell_type": "markdown",
   "metadata": {
    "slideshow": {
     "slide_type": "slide"
    }
   },
   "source": [
    "## Libraries\n",
    "*Don't reinvent the wheel*"
   ]
  },
  {
   "cell_type": "markdown",
   "metadata": {
    "slideshow": {
     "slide_type": "subslide"
    }
   },
   "source": [
    "Also known as modules, importing code can be done from installed libraries, or from code in another file"
   ]
  },
  {
   "cell_type": "code",
   "execution_count": null,
   "metadata": {},
   "outputs": [],
   "source": [
    "import math\n",
    "math.sqrt(4)"
   ]
  },
  {
   "cell_type": "code",
   "execution_count": null,
   "metadata": {},
   "outputs": [],
   "source": [
    "import math as mt\n",
    "mt.sin(4)"
   ]
  },
  {
   "cell_type": "code",
   "execution_count": null,
   "metadata": {},
   "outputs": [],
   "source": [
    "from math import sqrt\n",
    "sqrt(8)"
   ]
  },
  {
   "cell_type": "code",
   "execution_count": null,
   "metadata": {},
   "outputs": [],
   "source": [
    "# A tempting, but dangerous idea\n",
    "from math import *\n",
    "# Who knows which variables have now been defined..."
   ]
  },
  {
   "cell_type": "code",
   "execution_count": null,
   "metadata": {},
   "outputs": [],
   "source": [
    "from examples.timed_code import run # import from file. Use . for directory structure"
   ]
  },
  {
   "cell_type": "markdown",
   "metadata": {
    "slideshow": {
     "slide_type": "slide"
    }
   },
   "source": [
    "## Functions\n",
    "*The more you code, the more functional you get*"
   ]
  },
  {
   "cell_type": "markdown",
   "metadata": {
    "slideshow": {
     "slide_type": "subslide"
    }
   },
   "source": [
    "* Never repeat code, always reuse code\n",
    "* Use functions to this end"
   ]
  },
  {
   "cell_type": "code",
   "execution_count": null,
   "metadata": {},
   "outputs": [],
   "source": [
    "def cal_y(x):\n",
    "    \"\"\"Calculate result of linear function\"\"\"\n",
    "    return 3*x + 2  # return calculated function directly\n",
    "\n",
    "cal_y(4)"
   ]
  },
  {
   "cell_type": "code",
   "execution_count": null,
   "metadata": {
    "slideshow": {
     "slide_type": "subslide"
    }
   },
   "outputs": [],
   "source": [
    "def cal_y(x):\n",
    "    \"\"\"Calculate result of linear function\"\"\"\n",
    "    y = 3*x + 2\n",
    "    return y # return a variable\n",
    "\n",
    "cal_y(4)"
   ]
  },
  {
   "cell_type": "markdown",
   "metadata": {
    "slideshow": {
     "slide_type": "subslide"
    }
   },
   "source": [
    "* *Parameters* | The variables in the function definition\n",
    "* *Arguments* | The values sent to the function (aka args)\n",
    "* *Keyword arguments* | The values for which a default is set (aka kwargs)"
   ]
  },
  {
   "cell_type": "code",
   "execution_count": null,
   "metadata": {
    "slideshow": {
     "slide_type": "subslide"
    }
   },
   "outputs": [],
   "source": [
    "def cal_y(x, slope=3):\n",
    "    \"\"\"Calculate result of linear function\"\"\"\n",
    "    return slope*x + 2\n",
    "\n",
    "cal_y(4)"
   ]
  },
  {
   "cell_type": "code",
   "execution_count": null,
   "metadata": {},
   "outputs": [],
   "source": [
    "cal_y(4, slope=2)"
   ]
  },
  {
   "cell_type": "markdown",
   "metadata": {
    "slideshow": {
     "slide_type": "subslide"
    }
   },
   "source": [
    "### Scope and namespaces\n",
    "* *Scope* | The extent of a program to which a variable is visible\n",
    "* *Local scope* | Scope associated with the current executing function\n",
    "* *Function body* | The scope of the function\n",
    "* *Module Global scope* | Scope of the module"
   ]
  },
  {
   "cell_type": "code",
   "execution_count": null,
   "metadata": {
    "slideshow": {
     "slide_type": "subslide"
    }
   },
   "outputs": [],
   "source": [
    "def is_even(n):\n",
    "    \"\"\"Return True if n in even.\"\"\"\n",
    "    return n % 2 == 0\n",
    "\n",
    "def filter_even_numbers(l):\n",
    "    \"\"\"Return a list filtered of even numbers.\"\"\"\n",
    "    out = []\n",
    "    \n",
    "    for n in l:\n",
    "        if is_even(n):\n",
    "            out.append(n)\n",
    "            \n",
    "    return out\n",
    "\n",
    "numbers = [1, 2, 3, 4, 5, 6, 7, 8, 9, 10]\n",
    "even = filter_even_numbers(numbers)\n",
    "print(f'The even numbers are {even}')"
   ]
  },
  {
   "cell_type": "code",
   "execution_count": null,
   "metadata": {},
   "outputs": [],
   "source": [
    "print(even)\n",
    "\n",
    "print(out)"
   ]
  },
  {
   "cell_type": "markdown",
   "metadata": {
    "slideshow": {
     "slide_type": "subslide"
    }
   },
   "source": [
    "* *List comprehension* | Short way of creating a function"
   ]
  },
  {
   "cell_type": "code",
   "execution_count": null,
   "metadata": {},
   "outputs": [],
   "source": [
    "numbers = [i for i in range(10)]  # This is called list \n",
    "print(numbers)\n",
    "print(i)"
   ]
  },
  {
   "cell_type": "code",
   "execution_count": null,
   "metadata": {
    "slideshow": {
     "slide_type": "subslide"
    }
   },
   "outputs": [],
   "source": [
    "# Shorter version of filtering numbers\n",
    "\n",
    "def filter_even_numbers(l):\n",
    "    \"\"\"Return a list filtered of even numbers.\"\"\"\n",
    "    return [n for n in l if n % 2 == 0]\n",
    "\n",
    "filter_even_numbers(numbers)"
   ]
  },
  {
   "cell_type": "markdown",
   "metadata": {
    "slideshow": {
     "slide_type": "subslide"
    }
   },
   "source": [
    "* Global variables are tempting, but use with caution\n",
    "* Only define a variable in the scope in which it is needed"
   ]
  },
  {
   "cell_type": "code",
   "execution_count": null,
   "metadata": {},
   "outputs": [],
   "source": [
    "# Example of how global variables work\n",
    "a = 4\n",
    "\n",
    "def add(a, b):\n",
    "    \"\"\"Adapt a and add two variables together.\"\"\"\n",
    "    a += 10  # a is only adapted in the local scope\n",
    "    return a + b\n",
    "  \n",
    "add(a, 2)\n",
    "print(a) "
   ]
  },
  {
   "cell_type": "code",
   "execution_count": null,
   "metadata": {
    "slideshow": {
     "slide_type": "subslide"
    }
   },
   "outputs": [],
   "source": [
    "# Example of how to avoid global variables\n",
    "\n",
    "def cal_y(x, slope=3):\n",
    "    \"\"\"Calculate result of linear function\"\"\"\n",
    "    return slope*x + 2\n",
    "\n",
    "cal_y(4)"
   ]
  },
  {
   "cell_type": "code",
   "execution_count": null,
   "metadata": {
    "slideshow": {
     "slide_type": "subslide"
    }
   },
   "outputs": [],
   "source": [
    "# Or this\n",
    "\n",
    "def cal_y(x):\n",
    "    \"\"\"Calculate result of linear function\"\"\"\n",
    "    slope=3\n",
    "    return slope*x + 2\n",
    "\n",
    "cal_y(4)"
   ]
  },
  {
   "cell_type": "code",
   "execution_count": null,
   "metadata": {
    "slideshow": {
     "slide_type": "subslide"
    }
   },
   "outputs": [],
   "source": [
    "# But not this\n",
    "slope = 3\n",
    "\n",
    "def cal_y(x):\n",
    "    \"\"\"Calculate result of linear function\"\"\"\n",
    "    return slope*x + 2\n",
    "\n",
    "cal_y(4)"
   ]
  },
  {
   "cell_type": "markdown",
   "metadata": {
    "slideshow": {
     "slide_type": "slide"
    }
   },
   "source": [
    "## Classes\n",
    "*Complicated things, but pretty convenient*"
   ]
  },
  {
   "cell_type": "markdown",
   "metadata": {
    "slideshow": {
     "slide_type": "subslide"
    }
   },
   "source": [
    "* You don't need to be able to write these, just to have some understanding of them\n",
    "* *Object Oriented Programming* | A way of programming in which data and functions related to the data are linked in an object"
   ]
  },
  {
   "cell_type": "code",
   "execution_count": null,
   "metadata": {
    "slideshow": {
     "slide_type": "subslide"
    }
   },
   "outputs": [],
   "source": [
    "import math\n",
    "\n",
    "class Planet(object):\n",
    "    def __init__(self, name, radius, mass):\n",
    "        self.name = name\n",
    "        self.radius = radius\n",
    "        self.mass = mass\n",
    "\n",
    "    def density(self):\n",
    "        return 3. * self.mass / (4 * math.pi * self.radius**3)\n",
    "\n",
    "    def __repr__(self):\n",
    "        return f\"This planet is {self.name}.\""
   ]
  },
  {
   "cell_type": "code",
   "execution_count": null,
   "metadata": {},
   "outputs": [],
   "source": [
    "this_planet = Planet(\"Earth\", 6.4e6, 6.0e24)\n",
    "other_planet = Planet(\"Mars\", 3.4e6, 6.4e23)\n",
    "\n",
    "print(this_planet)"
   ]
  },
  {
   "cell_type": "code",
   "execution_count": null,
   "metadata": {},
   "outputs": [],
   "source": [
    "for planet in (this_planet, other_planet):\n",
    "    print(f\"The density of {planet.name} is {planet.density():.2f} kg/m3\")"
   ]
  },
  {
   "cell_type": "markdown",
   "metadata": {
    "slideshow": {
     "slide_type": "subslide"
    }
   },
   "source": [
    "* *Inheritance* | Creating a hierarchy of classes\n",
    "* *Baseclass* | The class from which is inherited\n",
    "* *Subclass* | A class inheriting from a baseclass"
   ]
  },
  {
   "cell_type": "code",
   "execution_count": null,
   "metadata": {
    "slideshow": {
     "slide_type": "subslide"
    }
   },
   "outputs": [],
   "source": [
    "class RingedPlanet(Planet):\n",
    "    \n",
    "    def cal_rings(self):\n",
    "        # Just an example, you can't actually calculate the number of rings with this\n",
    "        return len(self.name)*self.radius**5.3\n",
    "        \n",
    "another_planet = RingedPlanet(\"Saturn\", 58.2e6, 5.7e26)\n",
    "print(another_planet.cal_rings())"
   ]
  },
  {
   "cell_type": "markdown",
   "metadata": {
    "slideshow": {
     "slide_type": "slide"
    }
   },
   "source": [
    "## Program structure\n",
    "*It's all about caring about sharing*"
   ]
  },
  {
   "cell_type": "markdown",
   "metadata": {
    "slideshow": {
     "slide_type": "subslide"
    }
   },
   "source": [
    "### Example\n",
    "Let's go off on a tangent "
   ]
  },
  {
   "cell_type": "code",
   "execution_count": null,
   "metadata": {
    "slideshow": {
     "slide_type": "subslide"
    }
   },
   "outputs": [],
   "source": [
    "\"\"\"Program to calculate one of the angles of a triangle.\"\"\"\n",
    "import math\n",
    "from examples.timed_code import run\n",
    "\n",
    "OUTPUT = True\n",
    "\n",
    "\n",
    "def cal_angle(a, b):\n",
    "    \"\"\"Calculate the angle next to a and opposite b.\n",
    "    \n",
    "    Some extra information about this function, which\n",
    "    might be good to note, this that you have to ensure\n",
    "    you get the order of a and b right.\n",
    "    \n",
    "    Args:\n",
    "        a (float): The closest side to the angle, but \n",
    "            not the longest side in the triangle.\n",
    "        b (float): The opposite side to the angle\n",
    "        \n",
    "    Returns:\n",
    "        float: The angle next to a and opposite b\n",
    "        \n",
    "    Examples:\n",
    "        This ought to work\n",
    "        >>> cal_angle(4, 4)\n",
    "        45.0\n",
    "    \"\"\"\n",
    "    run(seconds=4.0)\n",
    "    return math.degrees(math.atan(b/a))\n",
    "\n",
    "\n",
    "answer = cal_angle(2, 3)\n",
    "\n",
    "# Only print if user wants output\n",
    "if OUTPUT:\n",
    "    print(answer)"
   ]
  },
  {
   "cell_type": "markdown",
   "metadata": {
    "slideshow": {
     "slide_type": "subslide"
    }
   },
   "source": [
    "### Pep8\n",
    "* The conventions you should follow? All in Pep8\n",
    "* IDEs have extensions called linters which check this for you"
   ]
  },
  {
   "cell_type": "markdown",
   "metadata": {
    "slideshow": {
     "slide_type": "subslide"
    }
   },
   "source": [
    "![linter](media/linter.gif)"
   ]
  },
  {
   "cell_type": "markdown",
   "metadata": {
    "slideshow": {
     "slide_type": "subslide"
    }
   },
   "source": [
    "### `if __name__ == '__main__'`\n",
    "To ensure code is only run if it's not imported (e.g. useful when importing a file that can also be run as main code)."
   ]
  },
  {
   "cell_type": "code",
   "execution_count": 1,
   "metadata": {},
   "outputs": [
    {
     "name": "stdout",
     "output_type": "stream",
     "text": [
      "Starting program\n",
      "Finishing program\n"
     ]
    }
   ],
   "source": [
    "\"\"\"Code timed to run for x seconds.\"\"\"\n",
    "import time\n",
    "\n",
    "\n",
    "def run(seconds=5):\n",
    "    \"\"\"Run a program for a number of seconds.\"\"\"\n",
    "    time.sleep(seconds)\n",
    "\n",
    "\n",
    "if __name__ == '__main__':\n",
    "    print('Starting program')\n",
    "    run()\n",
    "    print('Finishing program')"
   ]
  },
  {
   "cell_type": "markdown",
   "metadata": {},
   "source": [
    "Now take a look at the `timed_code_setvar.py` code in the `examples` directory."
   ]
  },
  {
   "cell_type": "code",
   "execution_count": 4,
   "metadata": {},
   "outputs": [
    {
     "name": "stdout",
     "output_type": "stream",
     "text": [
      "3\n",
      "Slept for  1  seconds\n"
     ]
    }
   ],
   "source": [
    "import examples.timed_code_setvar as timed_setvar\n",
    "print(timed_setvar.seconds)\n",
    "timed_setvar.run()"
   ]
  },
  {
   "cell_type": "markdown",
   "metadata": {
    "slideshow": {
     "slide_type": "subslide"
    }
   },
   "source": [
    "### Some conventions you should know\n",
    "* Indents should be with 4 spaces, not a tab\n",
    "* Python lines should be shorter than 79 characters\n",
    "* No deeply indented code\n",
    "* Variables in small case (`mass = 45`)\n",
    "* Global variables in uppercase if using (`OUTPUT = False`)\n",
    "* Avoid builtin names\n",
    "* Use underscores for readability (`def cal_density():`)\n",
    "* Classes in camel case (`RingedPlanet`)\n",
    "* Always avoid commented out code\n",
    "* Use descriptive names for variables (e.g. not `l2 = []`)"
   ]
  },
  {
   "cell_type": "markdown",
   "metadata": {
    "slideshow": {
     "slide_type": "subslide"
    }
   },
   "source": [
    "### Shebang\n",
    "A line at the top of a file telling the computer with which program to execute the script, eg"
   ]
  },
  {
   "cell_type": "code",
   "execution_count": null,
   "metadata": {},
   "outputs": [],
   "source": [
    "#!/bin/bash"
   ]
  },
  {
   "cell_type": "code",
   "execution_count": null,
   "metadata": {},
   "outputs": [],
   "source": [
    "#!/usr/bin/env python3"
   ]
  },
  {
   "cell_type": "markdown",
   "metadata": {},
   "source": [
    "This allows you to avoid having to type `python3` the whole time"
   ]
  },
  {
   "cell_type": "markdown",
   "metadata": {
    "slideshow": {
     "slide_type": "slide"
    }
   },
   "source": [
    "## Documentation\n",
    "*Make it easy for yourself and others*"
   ]
  },
  {
   "cell_type": "markdown",
   "metadata": {
    "slideshow": {
     "slide_type": "subslide"
    }
   },
   "source": [
    "#### Comments\n",
    "Always comment your code, both for the future you and for others"
   ]
  },
  {
   "cell_type": "code",
   "execution_count": null,
   "metadata": {},
   "outputs": [],
   "source": [
    "import math\n",
    "\n",
    "# Calculate the hypotenuse of a triangle\n",
    "result = math.sqrt(3**2 + 4**2)  # meters"
   ]
  },
  {
   "cell_type": "markdown",
   "metadata": {
    "slideshow": {
     "slide_type": "subslide"
    }
   },
   "source": [
    "#### Docstrings"
   ]
  },
  {
   "cell_type": "code",
   "execution_count": null,
   "metadata": {},
   "outputs": [],
   "source": [
    "\"\"\"Calculate triangle parameters.\"\"\"\n",
    "import math\n",
    "\n",
    "# Calculate the hypotenuse of a triangle\n",
    "result = math.sqrt(3**2 + 4**2)  # meters"
   ]
  },
  {
   "cell_type": "code",
   "execution_count": null,
   "metadata": {
    "slideshow": {
     "slide_type": "subslide"
    }
   },
   "outputs": [],
   "source": [
    "\"\"\"Program to calculate one of the angles of a triangle.\"\"\"\n",
    "import math\n",
    "from examples.timed_code import run\n",
    "\n",
    "OUTPUT = False\n",
    "\n",
    "\n",
    "def cal_angle(a, b):\n",
    "    \"\"\"Calculate the angle next to a and opposite b.\n",
    "    \n",
    "    Some extra information about this function, which\n",
    "    might be good to note, this that you have to ensure\n",
    "    you get the order of a and b right.\n",
    "    \n",
    "    Args:\n",
    "        a (float): The closest side to the angle, but \n",
    "            not the longest side in the triangle.\n",
    "        b (float): The opposite side to the angle\n",
    "        \n",
    "    Returns:\n",
    "        float: The angle next to a and opposite b\n",
    "        \n",
    "    Examples:\n",
    "        This ought to work\n",
    "        >>> cal_angle(4/4)\n",
    "        45.0\n",
    "    \"\"\"\n",
    "    run(seconds=0.5)\n",
    "    return math.degrees(math.atan(b/a))\n",
    "\n",
    "\n",
    "answer = cal_angle(2, 3)\n",
    "\n",
    "# Only print if user wants output\n",
    "if OUTPUT:\n",
    "    print(answer)"
   ]
  },
  {
   "cell_type": "markdown",
   "metadata": {
    "slideshow": {
     "slide_type": "slide"
    }
   },
   "source": [
    "## Error handling\n",
    "*Err on the side of caution*"
   ]
  },
  {
   "cell_type": "code",
   "execution_count": null,
   "metadata": {
    "slideshow": {
     "slide_type": "subslide"
    }
   },
   "outputs": [],
   "source": [
    "# An example of an error\n",
    "while True print('Hello world')"
   ]
  },
  {
   "cell_type": "code",
   "execution_count": null,
   "metadata": {
    "slideshow": {
     "slide_type": "fragment"
    }
   },
   "outputs": [],
   "source": [
    "# Or this one\n",
    "10 * (1/0)"
   ]
  },
  {
   "cell_type": "markdown",
   "metadata": {
    "slideshow": {
     "slide_type": "subslide"
    }
   },
   "source": [
    "Use specific try-except clauses to deal with errors"
   ]
  },
  {
   "cell_type": "code",
   "execution_count": null,
   "metadata": {},
   "outputs": [],
   "source": [
    "while True:\n",
    "    try:\n",
    "        x = int(input('Please enter a number: '))\n",
    "        break\n",
    "    except ValueError:\n",
    "        print('Oops! That was no valid number. Try again...')"
   ]
  },
  {
   "cell_type": "markdown",
   "metadata": {
    "slideshow": {
     "slide_type": "slide"
    }
   },
   "source": [
    "## Project setup\n",
    "*Per ardua ad astra*"
   ]
  },
  {
   "cell_type": "markdown",
   "metadata": {
    "slideshow": {
     "slide_type": "subslide"
    }
   },
   "source": [
    "### Virtual Environment\n",
    "* Updates to libraries can break your code\n",
    "* Say `math.pi` used to be 3.14, and then is changed to 3\n",
    "* To ensure your code always runs with the input you designed it in, use virtual environments\n",
    "* They isolate the libraries you install\n",
    "* Use a virtual environment per project, otherwise things *will* break"
   ]
  },
  {
   "cell_type": "code",
   "execution_count": null,
   "metadata": {
    "slideshow": {
     "slide_type": "subslide"
    }
   },
   "outputs": [],
   "source": [
    "# Change directories\n",
    "! cd ./basic_linux_and_coding\n",
    "\n",
    "# Create a virtual environment\n",
    "! python3 -m venv ./course-env\n",
    "\n",
    "# Activate the virtual environment\n",
    "! source ./course-env/bin/activate\n",
    "\n",
    "# Install all the extra libraries needed\n",
    "! pip3 install -r requirements.txt"
   ]
  },
  {
   "cell_type": "code",
   "execution_count": null,
   "metadata": {
    "slideshow": {
     "slide_type": "subslide"
    }
   },
   "outputs": [],
   "source": [
    "# Save time using\n",
    "! alias coding_course = 'cd ~/msc/basic_linux_and_coding/; source ./course-env/bin/activate; atom .'"
   ]
  },
  {
   "cell_type": "code",
   "execution_count": null,
   "metadata": {
    "slideshow": {
     "slide_type": "fragment"
    }
   },
   "outputs": [],
   "source": [
    "# Quit out of the environment using\n",
    "! deactivate"
   ]
  },
  {
   "cell_type": "markdown",
   "metadata": {
    "slideshow": {
     "slide_type": "subslide"
    }
   },
   "source": [
    "### Conda\n",
    "* Anaconda (or `conda`) is a company's way of making installing python packages easier\n",
    "* Continuum Analytics is also responsible for Jupyter notebooks "
   ]
  },
  {
   "cell_type": "markdown",
   "metadata": {
    "slideshow": {
     "slide_type": "subslide"
    }
   },
   "source": [
    "### Directory structure\n",
    "* This is just advice, no need to stick to it\n",
    "* For a project called antelope, in order of importance\n",
    "\n",
    "```\n",
    "antelope/\n",
    "    antelope/\n",
    "        __init__.py\n",
    "        <core>.py\n",
    "        <helpers>.py\n",
    "    tests/\n",
    "        <basic>.py\n",
    "        <advanced>.py\n",
    "        example.py\n",
    "    docs/\n",
    "        <auto_doc>.py\n",
    "        <index>.md\n",
    "    thesis/\n",
    "        <cal_something>.py\n",
    "        <plot_something>.py\n",
    "    data/\n",
    "        <big_file>.dat\n",
    "        \n",
    "    README.md\n",
    "    LICENSE.md\n",
    "    setup.py\n",
    "    requirements.txt\n",
    "```"
   ]
  },
  {
   "cell_type": "markdown",
   "metadata": {
    "slideshow": {
     "slide_type": "subslide"
    }
   },
   "source": [
    "#### Licenses\n",
    "* If you don't add a license, *nobody* is allowed to use your code\n",
    "* Always add a license to any project\n",
    "* Consult https://choosealicense.com/ for using a license\n",
    "* *MIT license* | Do whatever you want\n",
    "* *GNU GPLv3* | Copyleft license\n",
    "* *Copyleft* | Everyone can use your code, as long as they allow others to do the same"
   ]
  },
  {
   "cell_type": "markdown",
   "metadata": {
    "slideshow": {
     "slide_type": "slide"
    }
   },
   "source": [
    "## Getting help\n",
    "*Help will always be given to those who ask for it*"
   ]
  },
  {
   "cell_type": "markdown",
   "metadata": {
    "slideshow": {
     "slide_type": "subslide"
    }
   },
   "source": [
    "### Follow the ~~spiders~~ traceback"
   ]
  },
  {
   "cell_type": "code",
   "execution_count": null,
   "metadata": {},
   "outputs": [],
   "source": [
    "def upper_func(x):\n",
    "    return x + 1 + 'error'\n",
    "\n",
    "def middle_func(x):\n",
    "    return upper_func(x) + 1\n",
    "\n",
    "def lower_func(x):\n",
    "    return middle_func(x) + 1\n",
    "\n",
    "for i in range(1):\n",
    "    answer = lower_func(i)\n",
    "\n",
    "print(answer)"
   ]
  },
  {
   "cell_type": "markdown",
   "metadata": {
    "slideshow": {
     "slide_type": "subslide"
    }
   },
   "source": [
    "### Stackoverflow\n",
    "* Google is your friend\n",
    "* The answers to any question you have"
   ]
  },
  {
   "cell_type": "markdown",
   "metadata": {
    "slideshow": {
     "slide_type": "subslide"
    }
   },
   "source": [
    "### Python Documentation\n",
    "* Very clear documentation\n",
    "* Clear examples\n",
    "* Great for understand how something works rather than perhaps for fixing something"
   ]
  },
  {
   "cell_type": "markdown",
   "metadata": {
    "slideshow": {
     "slide_type": "subslide"
    }
   },
   "source": [
    "### Manuals\n",
    "* Using `man` or the docstrings can tell you a lot about a program"
   ]
  }
 ],
 "metadata": {
  "celltoolbar": "Slideshow",
  "kernelspec": {
   "display_name": "Python 3",
   "language": "python",
   "name": "python3"
  },
  "language_info": {
   "codemirror_mode": {
    "name": "ipython",
    "version": 3
   },
   "file_extension": ".py",
   "mimetype": "text/x-python",
   "name": "python",
   "nbconvert_exporter": "python",
   "pygments_lexer": "ipython3",
   "version": "3.7.1"
  },
  "toc": {
   "base_numbering": 1,
   "nav_menu": {},
   "number_sections": true,
   "sideBar": false,
   "skip_h1_title": true,
   "title_cell": "Table of Contents",
   "title_sidebar": "Contents",
   "toc_cell": true,
   "toc_position": {
    "height": "602px",
    "left": "35px",
    "top": "210px",
    "width": "384px"
   },
   "toc_section_display": true,
   "toc_window_display": false
  }
 },
 "nbformat": 4,
 "nbformat_minor": 2
}
