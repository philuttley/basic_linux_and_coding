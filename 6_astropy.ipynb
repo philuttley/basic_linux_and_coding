{
 "cells": [
  {
   "cell_type": "markdown",
   "metadata": {
    "slideshow": {
     "slide_type": "slide"
    }
   },
   "source": [
    "![astropy_banner.jpg](media/astropy_banner.jpg)"
   ]
  },
  {
   "cell_type": "markdown",
   "metadata": {
    "slideshow": {
     "slide_type": "slide"
    }
   },
   "source": [
    "## Sharing code is healthy for the community and the science it produces\n",
    "\n",
    "- a community-developed core library for professional astronomical research\n",
    "- combines many functionalities from a variety of astronomy packages and languages\n",
    "- Goals: Usability, Interoperability and Collaboration between packages\n",
    "\n",
    "### Affiliated Packages\n",
    "\n",
    "- astronomy related python packages\n",
    "- adhere to interface standards of astropy but are not (yet) part of the astropy core package\n",
    "- currently 40 affiliated packages covering many areas of astronomical research\n",
    "\n",
    "### Since astropy Version 3.0.0 the package only supports Python 3!\n",
    "### Is now included by default in Anaconda"
   ]
  },
  {
   "cell_type": "markdown",
   "metadata": {
    "slideshow": {
     "slide_type": "slide"
    }
   },
   "source": [
    "## Queries, Coordinate Systems, Time and Units\n",
    "### Observation planning with astropy"
   ]
  },
  {
   "cell_type": "markdown",
   "metadata": {
    "slideshow": {
     "slide_type": "slide"
    }
   },
   "source": [
    "### Observability of Fomalhaut from the VLT: initial setup"
   ]
  },
  {
   "cell_type": "code",
   "execution_count": null,
   "metadata": {
    "slideshow": {
     "slide_type": "-"
    }
   },
   "outputs": [],
   "source": [
    "import numpy as np\n",
    "import matplotlib.pyplot as plt\n",
    "from astropy.visualization import astropy_mpl_style\n",
    "plt.style.use(astropy_mpl_style)\n",
    "import astropy.units as u\n",
    "from astropy.time import Time\n",
    "from astropy.coordinates import SkyCoord, EarthLocation, AltAz\n",
    "\n",
    "# Lets observe the star Fomalhaut with the ESO VLT - 8m Telescope in Chile\n",
    "# Load the position of Fomalhaut from the Simbad database\n",
    "\n",
    "fomalhaut = SkyCoord.from_name('Fomalhaut')\n",
    "\n",
    "print(fomalhaut)\n",
    "\n",
    "# Load the position of the Observatory. Physical units should be assigned via the\n",
    "# units function\n",
    "paranal = EarthLocation(lat=-24.62*u.deg, lon=-70.40*u.deg, height=2635*u.m) \n",
    "\n",
    "print(paranal)  # The coordinates are stored as geocentric (position relative to\n",
    "# earth centre-of-mass) as a default"
   ]
  },
  {
   "cell_type": "markdown",
   "metadata": {
    "slideshow": {
     "slide_type": "slide"
    }
   },
   "source": [
    "### Calculate Fomalhaut and solar altitude/azimuth"
   ]
  },
  {
   "cell_type": "code",
   "execution_count": null,
   "metadata": {
    "slideshow": {
     "slide_type": "-"
    }
   },
   "outputs": [],
   "source": [
    "# We want to observe Fomalhaut next week. We will determine the position\n",
    "# in the sky as seen from Paranal in a 24 hour window centred on local midnight Oct 15.\n",
    "# (Oct 15 *starts* at 00:00:00)\n",
    "\n",
    "midnight = Time('2019-10-15 00:00:00')\n",
    "delta_midnight = np.linspace(-12, 12, 1000)*u.hour\n",
    "times_Oct14_to_15 = midnight + delta_midnight\n",
    "frame_Oct14_to_15 = AltAz(obstime=times_Oct14_to_15, location=paranal)\n",
    "\n",
    "# Now we transform the Fomalhaut object to the Altitute/Azimuth coordinate system\n",
    "\n",
    "fomalhaut_altazs_Oct14_to_15 = fomalhaut.transform_to(frame_Oct14_to_15)\n",
    "\n",
    "#print(fomalhaut_altazs_Oct14_to_15)\n",
    "\n"
   ]
  },
  {
   "cell_type": "code",
   "execution_count": null,
   "metadata": {},
   "outputs": [],
   "source": [
    "# We also check the position of the sun in the sky over the same time range\n",
    "from astropy.coordinates import get_sun\n",
    "\n",
    "sunaltazs_Oct14_to_15 = get_sun(times_Oct14_to_15).transform_to(frame_Oct14_to_15)"
   ]
  },
  {
   "cell_type": "markdown",
   "metadata": {
    "slideshow": {
     "slide_type": "slide"
    }
   },
   "source": [
    "### Determining the night-time observability of Fomalhaut"
   ]
  },
  {
   "cell_type": "code",
   "execution_count": null,
   "metadata": {
    "slideshow": {
     "slide_type": "-"
    }
   },
   "outputs": [],
   "source": [
    "# Plot the sun altitude\n",
    "plt.plot(delta_midnight, sunaltazs_Oct14_to_15.alt, color='r', label='Sun')\n",
    "# Plot Fomalhaut's alt/az - use a colour map to represent azimuth\n",
    "plt.scatter(delta_midnight, fomalhaut_altazs_Oct14_to_15.alt, \n",
    "            c=fomalhaut_altazs_Oct14_to_15.az, label='Fomalhaut', lw=0, s=8,\n",
    "            cmap='viridis')\n",
    "# Now plot the range when the sun is below the horizon, and at least 18 degrees below \n",
    "# the horizon - this shows the range of twilight (-0 to -18 deg) and night (< -18 deg)\n",
    "plt.fill_between(delta_midnight.to('hr').value, 0, 90,\n",
    "                 sunaltazs_Oct14_to_15.alt < -0*u.deg, color='0.7', zorder=0)\n",
    "plt.fill_between(delta_midnight.to('hr').value, 0, 90,\n",
    "                 sunaltazs_Oct14_to_15.alt < -18*u.deg, color='0.4', zorder=0)\n",
    "plt.colorbar().set_label('Azimuth [deg]')\n",
    "plt.legend(loc='upper left')\n",
    "plt.xlim(-12, 12)\n",
    "plt.xticks(np.arange(13)*2 -12)\n",
    "plt.ylim(0, 90)\n",
    "plt.xlabel('Hours from UT Midnight')\n",
    "plt.ylabel('Altitude [deg]')\n",
    "plt.show()"
   ]
  },
  {
   "cell_type": "markdown",
   "metadata": {
    "slideshow": {
     "slide_type": "slide"
    }
   },
   "source": [
    "## Fitting models to data\n",
    "\n",
    "### Health warning: This is a very basic intro - to do this properly and not make catastrophic errors in your interpretation and/or analysis, you need to do a statistics course! \n",
    "\n",
    "(e.g. for much more detail, see Statistical Methods course in Block 3)"
   ]
  },
  {
   "cell_type": "markdown",
   "metadata": {
    "slideshow": {
     "slide_type": "slide"
    }
   },
   "source": [
    "### Simple 1d model"
   ]
  },
  {
   "cell_type": "code",
   "execution_count": null,
   "metadata": {},
   "outputs": [],
   "source": [
    "import numpy as np\n",
    "import matplotlib.pyplot as plt\n",
    "from astropy.modeling import models, fitting\n",
    "\n",
    "# Generate data with some random noise\n",
    "x = np.linspace(-5., 5., 200)\n",
    "y = 3 * np.exp(-0.5 * (x - 1.3)**2 / 0.8**2) # Gaussian function\n",
    "y += np.random.normal(0., 0.2, x.shape) # add Normally distributed scatter\n",
    "\n",
    "plt.plot(x, y, 'ko')\n",
    "plt.show()"
   ]
  },
  {
   "cell_type": "code",
   "execution_count": null,
   "metadata": {
    "slideshow": {
     "slide_type": "slide"
    }
   },
   "outputs": [],
   "source": [
    "# Fit the data using a Gaussian\n",
    "g_init = models.Gaussian1D(amplitude=1., mean=0, stddev=1.)\n",
    "fit_g = fitting.LevMarLSQFitter() # Initialises fitting method as Levenberg-Marquardt\n",
    "# least squares fitting\n",
    "\n",
    "\n",
    "g = fit_g(g_init, x, y)  # Fits the data, note that fit_g is effectively an alias\n",
    "# for the L-M fitting function, so must use the same arguments in addition to any\n",
    "# pre-specified in the initial assignment of the function to fit_g above\n",
    "# (none are included in this case)\n",
    "\n",
    "plt.plot(x, y, 'ko')\n",
    "plt.plot(x, g(x), \"r-\")\n",
    "plt.show() "
   ]
  },
  {
   "cell_type": "markdown",
   "metadata": {
    "slideshow": {
     "slide_type": "slide"
    }
   },
   "source": [
    "### 2d model"
   ]
  },
  {
   "cell_type": "code",
   "execution_count": null,
   "metadata": {},
   "outputs": [],
   "source": [
    "import warnings\n",
    "import numpy as np\n",
    "import matplotlib.pyplot as plt\n",
    "from astropy.modeling import models, fitting\n",
    "\n",
    "# Generate fake data\n",
    "np.random.seed(0)\n",
    "y, x = np.mgrid[:128, :128]\n",
    "z = 2. * x ** 2 - 0.5 * x ** 2 + 1.5 * x * y - 1. # Polynomial function\n",
    "z += np.random.normal(0., 0.1, z.shape) * 50000."
   ]
  },
  {
   "cell_type": "code",
   "execution_count": null,
   "metadata": {
    "slideshow": {
     "slide_type": "slide"
    }
   },
   "outputs": [],
   "source": [
    "# Fit the data using astropy.modeling\n",
    "p_init = models.Polynomial2D(degree=2)\n",
    "fit_p = fitting.LevMarLSQFitter()\n",
    "\n",
    "with warnings.catch_warnings():\n",
    "    # Ignore model linearity warning from the fitter\n",
    "    warnings.simplefilter('ignore')\n",
    "    p = fit_p(p_init, x, y, z)\n",
    "    \n"
   ]
  },
  {
   "cell_type": "code",
   "execution_count": null,
   "metadata": {
    "slideshow": {
     "slide_type": "slide"
    }
   },
   "outputs": [],
   "source": [
    "# Plot the data with the best-fit model\n",
    "plt.figure(figsize=(8, 2.5))\n",
    "plt.subplot(1, 3, 1)\n",
    "plt.imshow(z, origin='lower', interpolation='nearest', vmin=-1e4, vmax=5e4)\n",
    "plt.title(\"Data\")\n",
    "plt.subplot(1, 3, 2)\n",
    "plt.imshow(p(x, y), origin='lower', interpolation='nearest', vmin=-1e4,\n",
    "           vmax=5e4)\n",
    "plt.title(\"Model\")\n",
    "# We can also plot data - model to look for any systematic deviations of the data\n",
    "# from the model that might suggest we need a better model or choice of parameters\n",
    "plt.subplot(1, 3, 3)\n",
    "plt.imshow(z - p(x, y), origin='lower', interpolation='nearest', vmin=-1e4,\n",
    "           vmax=5e4)\n",
    "plt.title(\"Residual\")\n",
    "plt.show()"
   ]
  },
  {
   "cell_type": "markdown",
   "metadata": {
    "slideshow": {
     "slide_type": "slide"
    }
   },
   "source": [
    "## Some affiliated packages"
   ]
  },
  {
   "cell_type": "markdown",
   "metadata": {
    "slideshow": {
     "slide_type": "slide"
    }
   },
   "source": [
    "### astroquery"
   ]
  },
  {
   "cell_type": "code",
   "execution_count": null,
   "metadata": {
    "slideshow": {
     "slide_type": "slide"
    }
   },
   "outputs": [],
   "source": [
    "import numpy as np\n",
    "import matplotlib.pyplot as plt\n",
    "from astropy.modeling import models, fitting\n",
    "from astroquery.vizier import Vizier\n",
    "\n",
    "# Cepheids Period-Luminosity data from Bhardwaj et al. 2017\n",
    "catalog = Vizier.get_catalogs('J/A+A/605/A100')\n",
    "print(catalog)\n",
    "\n",
    "period = np.array(catalog[0]['Period'])\n",
    "log_period = np.log10(period)\n",
    "k_mag = np.array(catalog[0]['__Ksmag_'])\n",
    "k_mag_err = np.array(catalog[0]['e__Ksmag_'])\n",
    "\n",
    "plt.errorbar(log_period, k_mag, k_mag_err, fmt='k.')\n",
    "plt.xlabel(r'$\\log_{10}$(Period [days])')\n",
    "plt.ylabel('Ks')\n",
    "plt.show()"
   ]
  },
  {
   "cell_type": "code",
   "execution_count": null,
   "metadata": {
    "slideshow": {
     "slide_type": "slide"
    }
   },
   "outputs": [],
   "source": [
    "# Lets now fit a simple model to the data\n",
    "model = models.Linear1D()\n",
    "fitter = fitting.LinearLSQFitter()\n",
    "best_fit = fitter(model, log_period, k_mag, weights=1.0/k_mag_err**2)\n",
    "\n",
    "plt.errorbar(log_period,k_mag,k_mag_err,fmt='k.')\n",
    "plt.plot(log_period, best_fit(log_period), color='g', linewidth=3)\n",
    "plt.xlabel(r'$\\log_{10}$(Period [days])')\n",
    "plt.ylabel('Ks')\n",
    "plt.show()"
   ]
  },
  {
   "cell_type": "markdown",
   "metadata": {
    "slideshow": {
     "slide_type": "slide"
    }
   },
   "source": [
    "### photutils"
   ]
  },
  {
   "cell_type": "code",
   "execution_count": null,
   "metadata": {
    "slideshow": {
     "slide_type": "slide"
    }
   },
   "outputs": [],
   "source": [
    "from photutils import datasets\n",
    "from photutils import aperture_photometry\n",
    "from photutils import SkyCircularAperture\n",
    "from astropy import units as u\n",
    "from astropy.coordinates import SkyCoord\n",
    "import astropy.io.fits as fits\n",
    "\n",
    "hdu = fits.open(\"./data/spitzer.fits\") \n",
    "catalog = datasets.load_spitzer_catalog()\n",
    "\n",
    "plt.imshow(hdu[0].data, vmin=-1, vmax=30, origin=\"lower\", cmap=plt.cm.gist_heat)\n",
    "plt.show()\n"
   ]
  },
  {
   "cell_type": "code",
   "execution_count": null,
   "metadata": {
    "slideshow": {
     "slide_type": "slide"
    }
   },
   "outputs": [],
   "source": [
    "positions = SkyCoord(catalog['l'], catalog['b'], frame='galactic')\n",
    "apertures = SkyCircularAperture(positions, r=4.8 * u.arcsec) \n",
    "phot_table = aperture_photometry(hdu[0], apertures) \n",
    "\n",
    "# conversion to flux per pixel with pixel scale of 1.2 arcsec/pixel\n",
    "factor = (1.2 * u.arcsec) ** 2 / u.pixel   \n",
    "converted_aperture_sum = (phot_table['aperture_sum'] *\n",
    "                          factor).to(u.mJy / u.pixel)\n",
    "\n",
    "# loading the catalog measurements\n",
    "fluxes_catalog = catalog['f4_5']\n",
    "\n",
    "import matplotlib.pyplot as plt\n",
    "plt.scatter(fluxes_catalog, converted_aperture_sum.value)\n",
    "plt.xlabel('Spitzer catalog PSF-fit fluxes ')\n",
    "plt.ylabel('Aperture photometry fluxes')\n",
    "plt.show()"
   ]
  },
  {
   "cell_type": "markdown",
   "metadata": {
    "slideshow": {
     "slide_type": "slide"
    }
   },
   "source": [
    "### Fitting circumstellar disks with photutils\n",
    "![ellipse_fitting_photutils.jpg](media/ellipse_fitting_photutils.jpg)"
   ]
  },
  {
   "cell_type": "markdown",
   "metadata": {
    "slideshow": {
     "slide_type": "slide"
    }
   },
   "source": [
    "![python.png](media/python.png)\n",
    "Image Credit: XKCD"
   ]
  }
 ],
 "metadata": {
  "celltoolbar": "Slideshow",
  "kernelspec": {
   "display_name": "Python 3",
   "language": "python",
   "name": "python3"
  },
  "language_info": {
   "codemirror_mode": {
    "name": "ipython",
    "version": 3
   },
   "file_extension": ".py",
   "mimetype": "text/x-python",
   "name": "python",
   "nbconvert_exporter": "python",
   "pygments_lexer": "ipython3",
   "version": "3.7.1"
  },
  "toc": {
   "base_numbering": 1,
   "nav_menu": {},
   "number_sections": true,
   "sideBar": false,
   "skip_h1_title": true,
   "title_cell": "Table of Contents",
   "title_sidebar": "Contents",
   "toc_cell": false,
   "toc_position": {},
   "toc_section_display": true,
   "toc_window_display": false
  }
 },
 "nbformat": 4,
 "nbformat_minor": 2
}
