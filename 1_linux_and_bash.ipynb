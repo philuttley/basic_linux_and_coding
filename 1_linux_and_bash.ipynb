{
 "cells": [
  {
   "cell_type": "markdown",
   "metadata": {
    "slideshow": {
     "slide_type": "slide"
    }
   },
   "source": [
    "# Linux and Bash"
   ]
  },
  {
   "cell_type": "markdown",
   "metadata": {
    "slideshow": {
     "slide_type": "notes"
    },
    "toc": true
   },
   "source": [
    "<h1>Table of Contents<span class=\"tocSkip\"></span></h1>\n",
    "<div class=\"toc\"><ul class=\"toc-item\"><li><span><a href=\"#Linux\" data-toc-modified-id=\"Linux-1\"><span class=\"toc-item-num\">1&nbsp;&nbsp;</span>Linux</a></span><ul class=\"toc-item\"><li><span><a href=\"#Unix\" data-toc-modified-id=\"Unix-1.1\"><span class=\"toc-item-num\">1.1&nbsp;&nbsp;</span>Unix</a></span></li><li><span><a href=\"#Users\" data-toc-modified-id=\"Users-1.2\"><span class=\"toc-item-num\">1.2&nbsp;&nbsp;</span>Users</a></span></li><li><span><a href=\"#File-System\" data-toc-modified-id=\"File-System-1.3\"><span class=\"toc-item-num\">1.3&nbsp;&nbsp;</span>File System</a></span></li></ul></li><li><span><a href=\"#Bash\" data-toc-modified-id=\"Bash-2\"><span class=\"toc-item-num\">2&nbsp;&nbsp;</span>Bash</a></span><ul class=\"toc-item\"><li><span><a href=\"#How-to-use-it\" data-toc-modified-id=\"How-to-use-it-2.1\"><span class=\"toc-item-num\">2.1&nbsp;&nbsp;</span>How to use it</a></span></li></ul></li><li><span><a href=\"#Common-commands\" data-toc-modified-id=\"Common-commands-3\"><span class=\"toc-item-num\">3&nbsp;&nbsp;</span>Common commands</a></span><ul class=\"toc-item\"><li><span><a href=\"#Getting-help\" data-toc-modified-id=\"Getting-help-3.1\"><span class=\"toc-item-num\">3.1&nbsp;&nbsp;</span>Getting help</a></span></li></ul></li><li><span><a href=\"#Glob-Patterns\" data-toc-modified-id=\"Glob-Patterns-4\"><span class=\"toc-item-num\">4&nbsp;&nbsp;</span>Glob Patterns</a></span></li><li><span><a href=\"#Running-programs\" data-toc-modified-id=\"Running-programs-5\"><span class=\"toc-item-num\">5&nbsp;&nbsp;</span>Running programs</a></span><ul class=\"toc-item\"><li><span><a href=\"#Long-running-programs\" data-toc-modified-id=\"Long-running-programs-5.1\"><span class=\"toc-item-num\">5.1&nbsp;&nbsp;</span>Long running programs</a></span></li><li><span><a href=\"#Ssh'ing-and-screen\" data-toc-modified-id=\"Ssh'ing-and-screen-5.2\"><span class=\"toc-item-num\">5.2&nbsp;&nbsp;</span>Ssh'ing and screen</a></span></li><li><span><a href=\"#Working-out-what-your-computer-is-doing\" data-toc-modified-id=\"Working-out-what-your-computer-is-doing-5.3\"><span class=\"toc-item-num\">5.3&nbsp;&nbsp;</span>Working out what your computer is doing</a></span></li></ul></li><li><span><a href=\"#Working-with-files\" data-toc-modified-id=\"Working-with-files-6\"><span class=\"toc-item-num\">6&nbsp;&nbsp;</span>Working with files</a></span><ul class=\"toc-item\"><li><span><a href=\"#Working-with-text-files\" data-toc-modified-id=\"Working-with-text-files-6.1\"><span class=\"toc-item-num\">6.1&nbsp;&nbsp;</span>Working with text files</a></span></li><li><span><a href=\"#Finding-a-file\" data-toc-modified-id=\"Finding-a-file-6.2\"><span class=\"toc-item-num\">6.2&nbsp;&nbsp;</span>Finding a file</a></span></li><li><span><a href=\"#Compressing-files\" data-toc-modified-id=\"Compressing-files-6.3\"><span class=\"toc-item-num\">6.3&nbsp;&nbsp;</span>Compressing files</a></span></li></ul></li><li><span><a href=\"#Permissions\" data-toc-modified-id=\"Permissions-7\"><span class=\"toc-item-num\">7&nbsp;&nbsp;</span>Permissions</a></span></li><li><span><a href=\"#Customizing-your-bash-shell\" data-toc-modified-id=\"Customizing-your-bash-shell-8\"><span class=\"toc-item-num\">8&nbsp;&nbsp;</span>Customizing your bash shell</a></span><ul class=\"toc-item\"><li><span><a href=\"#Environment-Variables\" data-toc-modified-id=\"Environment-Variables-8.1\"><span class=\"toc-item-num\">8.1&nbsp;&nbsp;</span>Environment Variables</a></span></li><li><span><a href=\"#Bash-Aliases\" data-toc-modified-id=\"Bash-Aliases-8.2\"><span class=\"toc-item-num\">8.2&nbsp;&nbsp;</span>Bash Aliases</a></span></li><li><span><a href=\"#For-loops\" data-toc-modified-id=\"For-loops-8.3\"><span class=\"toc-item-num\">8.3&nbsp;&nbsp;</span>For loops</a></span></li></ul></li><li><span><a href=\"#Unix-Pipes\" data-toc-modified-id=\"Unix-Pipes-9\"><span class=\"toc-item-num\">9&nbsp;&nbsp;</span>Unix Pipes</a></span></li><li><span><a href=\"#Vim\" data-toc-modified-id=\"Vim-10\"><span class=\"toc-item-num\">10&nbsp;&nbsp;</span>Vim</a></span></li></ul></div>"
   ]
  },
  {
   "cell_type": "markdown",
   "metadata": {
    "slideshow": {
     "slide_type": "slide"
    }
   },
   "source": [
    "## Linux\n",
    "*It's everywhere*"
   ]
  },
  {
   "cell_type": "markdown",
   "metadata": {
    "slideshow": {
     "slide_type": "subslide"
    }
   },
   "source": [
    "### Unix\n",
    "\n",
    "* Multi user system\n",
    "* Hierarchical file system\n",
    "* Popular in academia\n",
    "* Basis for Linux"
   ]
  },
  {
   "cell_type": "markdown",
   "metadata": {
    "slideshow": {
     "slide_type": "subslide"
    }
   },
   "source": [
    "### Users\n",
    "\n",
    "* Users are coupled with access rights\n",
    "* The user `root` (aka sudo) has *full* access\n",
    "* Be *very* careful when invoking `root`"
   ]
  },
  {
   "cell_type": "markdown",
   "metadata": {
    "slideshow": {
     "slide_type": "subslide"
    }
   },
   "source": [
    "### File System\n",
    "\n",
    "* Hierarchical -> Directories (folders) can be arbitrarily nested\n",
    "* A child directory (subdirectory) is within a parent directory\n",
    "* At the base is `/` (root)\n",
    "* Two types of paths\n",
    "    * Absolute `/home/john/university/msc/`\n",
    "    * Relative `./university/msc/`\n",
    "* One home directory per user `/home/john`\n",
    "* `scratch` is often used for storage\n",
    "* Hidden files start with `.`"
   ]
  },
  {
   "cell_type": "markdown",
   "metadata": {
    "slideshow": {
     "slide_type": "slide"
    }
   },
   "source": [
    "## Bash\n",
    "*Welcome to your life in the Bourne Again Shell*"
   ]
  },
  {
   "cell_type": "markdown",
   "metadata": {
    "slideshow": {
     "slide_type": "subslide"
    }
   },
   "source": [
    "### How to use it\n",
    "* Accessed via shell/terminal/command line/console\n",
    "* Starts with a prompt `john@deep_thought:/home/john/university/msc/$`\n",
    "* `~` refers to your home directory\n",
    "* Autocomplete using <kbd>Tab</kbd>"
   ]
  },
  {
   "cell_type": "markdown",
   "metadata": {
    "slideshow": {
     "slide_type": "slide"
    }
   },
   "source": [
    "## Common commands\n",
    "*You **will** need these*"
   ]
  },
  {
   "cell_type": "markdown",
   "metadata": {
    "slideshow": {
     "slide_type": "subslide"
    }
   },
   "source": [
    "* `pwd` Print working directory"
   ]
  },
  {
   "cell_type": "markdown",
   "metadata": {
    "slideshow": {
     "slide_type": "subslide"
    }
   },
   "source": [
    "* `cd` Change directory\n",
    "    * Each directory allows has a `.` and `..` file\n",
    "    * These are shorthand for current and parent directory"
   ]
  },
  {
   "cell_type": "markdown",
   "metadata": {
    "slideshow": {
     "slide_type": "subslide"
    }
   },
   "source": [
    "* `ls` List contents of a directory\n",
    "    * Use flags to pass options to the command, eg\n",
    "    * `-h` Human readable\n",
    "    * `-a` Show hidden files\n",
    "    * `-R` Recursively show all files\n",
    "    * They can be combined, eg `-lrt`"
   ]
  },
  {
   "cell_type": "markdown",
   "metadata": {
    "slideshow": {
     "slide_type": "subslide"
    }
   },
   "source": [
    "* `cp` Copy files\n",
    "    * Invoked with `cp source destination`\n",
    "    * Use `-r` to also copy the contents of a directory"
   ]
  },
  {
   "cell_type": "markdown",
   "metadata": {
    "slideshow": {
     "slide_type": "subslide"
    }
   },
   "source": [
    "* `mv` Move files\n",
    "    * Also invoked with `mv source destination`\n",
    "    * Can be used to rename files"
   ]
  },
  {
   "cell_type": "markdown",
   "metadata": {
    "slideshow": {
     "slide_type": "subslide"
    }
   },
   "source": [
    "* `rm` Remove files\n",
    "    * Invoke with `rm file`\n",
    "    * Unrecoverable - there's no trash in bash"
   ]
  },
  {
   "cell_type": "markdown",
   "metadata": {
    "slideshow": {
     "slide_type": "subslide"
    }
   },
   "source": [
    "* `rmdir` Remove directories\n",
    "    * Invoke with `rm directory`\n",
    "    * Use `rm -rf *` to recursively remove directories\n",
    "    * Be *very* careful with it - you can break *everything*\n",
    "    * Incidentally `*` is a joker, and pretty helpful (`ls *.py`)"
   ]
  },
  {
   "cell_type": "markdown",
   "metadata": {
    "slideshow": {
     "slide_type": "subslide"
    }
   },
   "source": [
    "* `mkdir` Make directories\n",
    "    * Invoke with `mkdir test_folder`\n",
    "    * Recursively with `mkdir -p test_folder/sub_1/sub_2`"
   ]
  },
  {
   "cell_type": "markdown",
   "metadata": {
    "slideshow": {
     "slide_type": "subslide"
    }
   },
   "source": [
    "### Getting help\n",
    "\n",
    "* For a command line program with `-?`, `-h` or `--help`\n",
    "* In general just type `man <program-name>`, like `man ls`"
   ]
  },
  {
   "cell_type": "markdown",
   "metadata": {
    "slideshow": {
     "slide_type": "slide"
    }
   },
   "source": [
    "## Glob Patterns\n",
    "*For when you're lazy*"
   ]
  },
  {
   "cell_type": "markdown",
   "metadata": {
    "slideshow": {
     "slide_type": "subslide"
    }
   },
   "source": [
    "* `*` matches any text in filename\n",
    "* `?` matches zero or one character\n",
    "* `[ABC]` matches any of A, B, or C\n",
    "* `[0-9]` matches numbers in a range\n",
    "* `[a-z]`, `[A-Z]` matches lower, upper case in range\n",
    "* `[A-Za-z]` matches any range\n",
    "* `\\` allows a glob character to be matched, like `\\*`\n",
    "* `!` negate a pattern"
   ]
  },
  {
   "cell_type": "markdown",
   "metadata": {
    "slideshow": {
     "slide_type": "slide"
    }
   },
   "source": [
    "## Running programs\n",
    "*Otherwise nothing will happen*"
   ]
  },
  {
   "cell_type": "markdown",
   "metadata": {
    "slideshow": {
     "slide_type": "subslide"
    }
   },
   "source": [
    "* `ls` is an example of a program, but so is `python3`\n",
    "* You might not always have permissions to run certain programs"
   ]
  },
  {
   "cell_type": "markdown",
   "metadata": {
    "slideshow": {
     "slide_type": "subslide"
    }
   },
   "source": [
    "### Long running programs\n",
    "* Start a program in the background by appending a ` &`\n",
    "* Move it back to the foreground with `fg`\n",
    "* Stop a program with <kbd>Ctrl</kbd>+<kbd>c</kbd>\n",
    "* Suspend a program with <kbd>Ctrl</kbd>+<kbd>z</kbd>\n",
    "* Move a program to the background with `bg`\n",
    "* (Copy and paste text with <kbd>Ctrl</kbd>+<kbd>Shift</kbd>+<kbd>c</kbd>, <kbd>Ctrl</kbd>+<kbd>Shift</kbd>+<kbd>v</kbd>)"
   ]
  },
  {
   "cell_type": "markdown",
   "metadata": {
    "slideshow": {
     "slide_type": "subslide"
    }
   },
   "source": [
    "### Ssh'ing and screen\n",
    "* Sometimes you'll run a program on a different computer\n",
    "* You can access it via `ssh`\n",
    "* Start a long-running program in a `screen` session\n",
    "* Log out, and it will still be running"
   ]
  },
  {
   "cell_type": "markdown",
   "metadata": {
    "slideshow": {
     "slide_type": "subslide"
    }
   },
   "source": [
    "### Working out what your computer is doing\n",
    "* Your computer fan is getting pretty loud?\n",
    "* Check what's going on with `top` or `ps`\n",
    "* The process number (PID) can be used to kill a process\n",
    "    * `kill <PID>`"
   ]
  },
  {
   "cell_type": "markdown",
   "metadata": {
    "slideshow": {
     "slide_type": "slide"
    }
   },
   "source": [
    "## Working with files\n",
    "*Science <-> Data <-> Files*"
   ]
  },
  {
   "cell_type": "markdown",
   "metadata": {
    "slideshow": {
     "slide_type": "subslide"
    }
   },
   "source": [
    "### Working with text files"
   ]
  },
  {
   "cell_type": "markdown",
   "metadata": {
    "slideshow": {
     "slide_type": "fragment"
    }
   },
   "source": [
    "* `cat` prints the contents of a file\n",
    "* `head` for a quick look at the head of a file\n",
    "* `tail` for a quick look at the tail of a file\n",
    "* `wc -l` number of lines"
   ]
  },
  {
   "cell_type": "markdown",
   "metadata": {
    "slideshow": {
     "slide_type": "fragment"
    }
   },
   "source": [
    "* `grep <text> <file>` Search within text\n",
    "    * `-i` Insensitive matches\n",
    "    * `-n` Line number\n",
    "    * `-H` Print file name (handy if combining with `*`)"
   ]
  },
  {
   "cell_type": "markdown",
   "metadata": {
    "slideshow": {
     "slide_type": "subslide"
    }
   },
   "source": [
    "### Finding a file\n",
    "\n",
    "* `find . -name \"<filename>\"` Looks a file in the current, and subdirectories"
   ]
  },
  {
   "cell_type": "markdown",
   "metadata": {
    "slideshow": {
     "slide_type": "subslide"
    }
   },
   "source": [
    "### Compressing files\n",
    "\n",
    "* Files can be big, and can be compressed\n",
    "* Windows commonly uses `zip` files, Unix `.gz` files\n",
    "* `gzip <filename>` compresses the file\n",
    "* `gunzip <filename>` decompresses the file\n",
    "* Software or data often comes in tarball-files (`.tar.gz`)\n",
    "* `tar -czf <zipped_filename> <files>` creates one\n",
    "* `tar -xzf <zipped_filename>` unpacks one\n",
    "* Helpful for Arxiv files"
   ]
  },
  {
   "cell_type": "markdown",
   "metadata": {
    "slideshow": {
     "slide_type": "slide"
    }
   },
   "source": [
    "## Permissions\n",
    "*You're not allowed to do everything*"
   ]
  },
  {
   "cell_type": "markdown",
   "metadata": {
    "slideshow": {
     "slide_type": "subslide"
    }
   },
   "source": [
    "* Giving everyone access to everythings is bad\n",
    "* Each Unix file has three permissions:\n",
    "    * Read\n",
    "    * Write\n",
    "    * Execute"
   ]
  },
  {
   "cell_type": "markdown",
   "metadata": {
    "slideshow": {
     "slide_type": "subslide"
    }
   },
   "source": [
    "* This can be complicated\n",
    "* Take the first column of a row in `ls -l`, eg `-rw-r--r--`\n",
    "    * `-` means it's a file rather than a directory `d` or symbolic link `l`\n",
    "    * Each triplet afterwards refers to read, write, execute\n",
    "    * Letter is permission, dash is not\n",
    "    * `rw-` owner\n",
    "    * `r--` group\n",
    "    * `r--` everyone else\n",
    "* Permissions can be changed with `chmod`"
   ]
  },
  {
   "cell_type": "markdown",
   "metadata": {
    "slideshow": {
     "slide_type": "subslide"
    }
   },
   "source": [
    "* Sometimes it's easier just to temporarily acquire `root` privileges, eg\n",
    "* `cd /; mkdir test` wouldn't allow you to make a directory\n",
    "* You would have to `sudo mkdir test` it"
   ]
  },
  {
   "cell_type": "markdown",
   "metadata": {
    "slideshow": {
     "slide_type": "slide"
    }
   },
   "source": [
    "## Customizing your bash shell\n",
    "*Making your life easier*"
   ]
  },
  {
   "cell_type": "markdown",
   "metadata": {
    "slideshow": {
     "slide_type": "subslide"
    }
   },
   "source": [
    "### Environment Variables\n",
    "* `$PATH` for instance gives the list of directories searched for executables\n",
    "* Variables can be set with `export GREETING=\"G'day\"`\n",
    "* Check that with `echo $GREETING`"
   ]
  },
  {
   "cell_type": "markdown",
   "metadata": {
    "slideshow": {
     "slide_type": "subslide"
    }
   },
   "source": [
    "### Bash Aliases\n",
    "* Find you're having to type the same commands over and over?\n",
    "* Place a bash alias in your `.bash_aliases` file\n",
    "* For instance, starting with work in this course you might use:\n",
    "    ```bash\n",
    "    alias coding_course='cd ~/msc/basic_linux_and_coding; source ./course-env/bin/activate'\n",
    "    ```\n",
    "  Now you only need to type `coding_course` into your terminal to start all those steps\n",
    "* Functions are also possible\n",
    "    ```bash\n",
    "    backup() { python3 /long/file/path/backup.py $1;}\n",
    "    ```\n",
    "    allowing you to type\n",
    "    ```bash\n",
    "    backup month\n",
    "    ```"
   ]
  },
  {
   "cell_type": "markdown",
   "metadata": {
    "slideshow": {
     "slide_type": "subslide"
    }
   },
   "source": [
    "### For loops\n",
    "* Sometimes this can help:\n",
    "    ```bash\n",
    "    for dir in $(ls); do command $dir & done\n",
    "    ```"
   ]
  },
  {
   "cell_type": "markdown",
   "metadata": {
    "slideshow": {
     "slide_type": "slide"
    }
   },
   "source": [
    "## Unix Pipes\n",
    "*Constructing a pipeline*"
   ]
  },
  {
   "cell_type": "markdown",
   "metadata": {
    "slideshow": {
     "slide_type": "subslide"
    }
   },
   "source": [
    "* `;` allows you to put multiple lines on a single line, eg\n",
    "* `cd ~; ls -la`"
   ]
  },
  {
   "cell_type": "markdown",
   "metadata": {
    "slideshow": {
     "slide_type": "subslide"
    }
   },
   "source": [
    "* `|` allows you to send the output of one program to the next, eg\n",
    "* `la -la | grep \".bash_aliases\"`, or\n",
    "* `cat sherlock.txt | grep \"Sherlock\" | sort | head`"
   ]
  },
  {
   "cell_type": "markdown",
   "metadata": {
    "slideshow": {
     "slide_type": "subslide"
    }
   },
   "source": [
    "* `>` allows you to redirect output to a file, eg\n",
    "    ```bash\n",
    "    ls -lh | sort -rk8 > tmp.log \n",
    "    ```\n",
    "* `>>` will *append* it to a file if it already exists\n",
    "* `2>&1` will also include any errors"
   ]
  },
  {
   "cell_type": "markdown",
   "metadata": {
    "slideshow": {
     "slide_type": "slide"
    }
   },
   "source": [
    "## Vim\n",
    "*Or how to quit it*"
   ]
  },
  {
   "cell_type": "markdown",
   "metadata": {
    "slideshow": {
     "slide_type": "fragment"
    }
   },
   "source": [
    "<kbd>Esc</kbd>, then <kbd>:q</kbd> to quit, or <kbd>:q!</kbd> to quit without saving"
   ]
  }
 ],
 "metadata": {
  "celltoolbar": "Slideshow",
  "kernelspec": {
   "display_name": "Python 3",
   "language": "python",
   "name": "python3"
  },
  "language_info": {
   "codemirror_mode": {
    "name": "ipython",
    "version": 3
   },
   "file_extension": ".py",
   "mimetype": "text/x-python",
   "name": "python",
   "nbconvert_exporter": "python",
   "pygments_lexer": "ipython3",
   "version": "3.7.1"
  },
  "toc": {
   "base_numbering": 1,
   "nav_menu": {},
   "number_sections": true,
   "sideBar": true,
   "skip_h1_title": true,
   "title_cell": "Table of Contents",
   "title_sidebar": "Contents",
   "toc_cell": true,
   "toc_position": {
    "height": "calc(100% - 180px)",
    "left": "10px",
    "top": "150px",
    "width": "384px"
   },
   "toc_section_display": true,
   "toc_window_display": false
  }
 },
 "nbformat": 4,
 "nbformat_minor": 2
}
