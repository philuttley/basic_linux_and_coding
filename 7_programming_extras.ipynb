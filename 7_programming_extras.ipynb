{
 "cells": [
  {
   "cell_type": "markdown",
   "metadata": {
    "slideshow": {
     "slide_type": "slide"
    }
   },
   "source": [
    "# Programming Extras"
   ]
  },
  {
   "cell_type": "markdown",
   "metadata": {
    "slideshow": {
     "slide_type": "skip"
    },
    "toc": true
   },
   "source": [
    "<h1>Table of Contents<span class=\"tocSkip\"></span></h1>\n",
    "<div class=\"toc\"><ul class=\"toc-item\"><li><span><a href=\"#Testing\" data-toc-modified-id=\"Testing-1\"><span class=\"toc-item-num\">1&nbsp;&nbsp;</span>Testing</a></span><ul class=\"toc-item\"><li><span><a href=\"#Docstrings\" data-toc-modified-id=\"Docstrings-1.1\"><span class=\"toc-item-num\">1.1&nbsp;&nbsp;</span>Docstrings</a></span></li><li><span><a href=\"#Doctest\" data-toc-modified-id=\"Doctest-1.2\"><span class=\"toc-item-num\">1.2&nbsp;&nbsp;</span>Doctest</a></span></li><li><span><a href=\"#Unit-testing\" data-toc-modified-id=\"Unit-testing-1.3\"><span class=\"toc-item-num\">1.3&nbsp;&nbsp;</span>Unit testing</a></span></li></ul></li><li><span><a href=\"#Debugging\" data-toc-modified-id=\"Debugging-2\"><span class=\"toc-item-num\">2&nbsp;&nbsp;</span>Debugging</a></span></li><li><span><a href=\"#Profiling\" data-toc-modified-id=\"Profiling-3\"><span class=\"toc-item-num\">3&nbsp;&nbsp;</span>Profiling</a></span><ul class=\"toc-item\"><li><span><a href=\"#Within-jupyter-notebook\" data-toc-modified-id=\"Within-jupyter-notebook-3.1\"><span class=\"toc-item-num\">3.1&nbsp;&nbsp;</span>Within jupyter notebook</a></span></li><li><span><a href=\"#Profiling-your-entire-code\" data-toc-modified-id=\"Profiling-your-entire-code-3.2\"><span class=\"toc-item-num\">3.2&nbsp;&nbsp;</span>Profiling your entire code</a></span></li><li><span><a href=\"#Lineprofiling-your-code\" data-toc-modified-id=\"Lineprofiling-your-code-3.3\"><span class=\"toc-item-num\">3.3&nbsp;&nbsp;</span>Lineprofiling your code</a></span></li></ul></li><li><span><a href=\"#Speed-up-your-code\" data-toc-modified-id=\"Speed-up-your-code-4\"><span class=\"toc-item-num\">4&nbsp;&nbsp;</span>Speed up your code</a></span><ul class=\"toc-item\"><li><span><a href=\"#Ufuncs\" data-toc-modified-id=\"Ufuncs-4.1\"><span class=\"toc-item-num\">4.1&nbsp;&nbsp;</span>Ufuncs</a></span></li><li><span><a href=\"#Numba\" data-toc-modified-id=\"Numba-4.2\"><span class=\"toc-item-num\">4.2&nbsp;&nbsp;</span>Numba</a></span></li></ul></li><li><span><a href=\"#Git(hub)\" data-toc-modified-id=\"Git(hub)-5\"><span class=\"toc-item-num\">5&nbsp;&nbsp;</span>Git(hub)</a></span><ul class=\"toc-item\"><li><ul class=\"toc-item\"><li><span><a href=\"#What-can-it-look-like?\" data-toc-modified-id=\"What-can-it-look-like?-5.0.1\"><span class=\"toc-item-num\">5.0.1&nbsp;&nbsp;</span>What can it look like?</a></span></li></ul></li></ul></li><li><span><a href=\"#Github\" data-toc-modified-id=\"Github-6\"><span class=\"toc-item-num\">6&nbsp;&nbsp;</span>Github</a></span></li><li><span><a href=\"#Publishing-code\" data-toc-modified-id=\"Publishing-code-7\"><span class=\"toc-item-num\">7&nbsp;&nbsp;</span>Publishing code</a></span><ul class=\"toc-item\"><li><ul class=\"toc-item\"><li><span><a href=\"#Software-Citation-Principles\" data-toc-modified-id=\"Software-Citation-Principles-7.0.1\"><span class=\"toc-item-num\">7.0.1&nbsp;&nbsp;</span>Software Citation Principles</a></span></li></ul></li></ul></li></ul></div>"
   ]
  },
  {
   "cell_type": "markdown",
   "metadata": {
    "slideshow": {
     "slide_type": "slide"
    }
   },
   "source": [
    "## Testing\n",
    "*Ensure your code never breaks*"
   ]
  },
  {
   "cell_type": "markdown",
   "metadata": {
    "slideshow": {
     "slide_type": "subslide"
    }
   },
   "source": [
    "### Docstrings"
   ]
  },
  {
   "cell_type": "code",
   "execution_count": null,
   "metadata": {
    "slideshow": {
     "slide_type": "-"
    }
   },
   "outputs": [],
   "source": [
    "def func(arg1, arg2):\n",
    "    \"\"\"Summary line.\n",
    "\n",
    "    Extended description of function.\n",
    "\n",
    "    Args:\n",
    "        arg1 (int): Description of arg1\n",
    "        arg2 (str): Description of arg2\n",
    "\n",
    "    Returns:\n",
    "        bool: Description of return value\n",
    "\n",
    "    Raises:\n",
    "        ValueError: If `arg2` is equal to `arg1`.\n",
    "\n",
    "    Examples:\n",
    "        Examples should be written in doctest format, and should illustrate how\n",
    "        to use the function.\n",
    "\n",
    "        >>> a = [1,2,3]\n",
    "        >>> print([x + 3 for x in a])\n",
    "        [4, 5, 6]\n",
    "\n",
    "    \"\"\"\n",
    "    if arg1 == arg2:\n",
    "        raise ValueError('arg1 may not be equal to arg2')\n",
    "    return True"
   ]
  },
  {
   "cell_type": "markdown",
   "metadata": {
    "slideshow": {
     "slide_type": "subslide"
    }
   },
   "source": [
    "### Doctest"
   ]
  },
  {
   "cell_type": "code",
   "execution_count": null,
   "metadata": {
    "slideshow": {
     "slide_type": "-"
    }
   },
   "outputs": [],
   "source": [
    "def fib(n):\n",
    "    \"\"\"Calculates the n-th Fibonacci number.  \n",
    "\n",
    "    >>> fib(0)\n",
    "    0\n",
    "    >>> fib(15)\n",
    "    610\n",
    "    >>> \n",
    "\n",
    "    \"\"\"\n",
    "    a, b = 0, 1\n",
    "    for i in range(n):\n",
    "        a, b = b, a + b\n",
    "    return a"
   ]
  },
  {
   "cell_type": "markdown",
   "metadata": {},
   "source": [
    "Which can be run with \n",
    "```\n",
    "$ python3 -m doctest -v <file>\n",
    "```"
   ]
  },
  {
   "cell_type": "markdown",
   "metadata": {
    "slideshow": {
     "slide_type": "subslide"
    }
   },
   "source": [
    "Producing\n",
    "```\n",
    "Trying:\n",
    "    fib(0)\n",
    "Expecting:\n",
    "    0\n",
    "ok\n",
    "Trying:\n",
    "    fib(15)\n",
    "Expecting:\n",
    "    610\n",
    "ok\n",
    "1 items had no tests:\n",
    "    test\n",
    "1 items passed all tests:\n",
    "   2 tests in test.fib\n",
    "2 tests in 2 items.\n",
    "2 passed and 0 failed.\n",
    "Test passed.\n",
    "```"
   ]
  },
  {
   "cell_type": "markdown",
   "metadata": {
    "slideshow": {
     "slide_type": "subslide"
    }
   },
   "source": [
    "### Unit testing"
   ]
  },
  {
   "cell_type": "code",
   "execution_count": null,
   "metadata": {},
   "outputs": [],
   "source": [
    "import unittest\n",
    "\n",
    "# Define the function\n",
    "def fun(x):\n",
    "    return x + 1\n",
    "\n",
    "# Define the tests\n",
    "class MyTest(unittest.TestCase):\n",
    "    def test(self):\n",
    "        self.assertEqual(fun(3), 4) # Specifies that if the code works, fun(x=3) should return 4\n",
    "\n",
    "# Run the unit test (the argv is just for jupyter notebooks)\n",
    "if  __name__  == '__main__':\n",
    "    unittest.main(argv=['first-arg-is-ignored'], exit=False)"
   ]
  },
  {
   "cell_type": "markdown",
   "metadata": {
    "slideshow": {
     "slide_type": "subslide"
    }
   },
   "source": [
    "## Debugging\n",
    "*When your computer makes you feel stupid*"
   ]
  },
  {
   "cell_type": "markdown",
   "metadata": {},
   "source": [
    "Most people simply use `print()` statements to debug. But you can do better than that..."
   ]
  },
  {
   "cell_type": "code",
   "execution_count": null,
   "metadata": {
    "slideshow": {
     "slide_type": "subslide"
    }
   },
   "outputs": [],
   "source": [
    "import time\n",
    "\n",
    "def complicated_function():\n",
    "    time.sleep(2)\n",
    "    x, y, z = 1, '2', 3\n",
    "    \n",
    "    # Usually you might do this\n",
    "    print(y)\n",
    "    \n",
    "    return x+y+z \n",
    "    \n",
    "complicated_function()"
   ]
  },
  {
   "cell_type": "code",
   "execution_count": null,
   "metadata": {
    "slideshow": {
     "slide_type": "subslide"
    }
   },
   "outputs": [],
   "source": [
    "import time\n",
    "\n",
    "def complicated_function():\n",
    "    time.sleep(0.5)\n",
    "    x, y, z = 1, '2', 3\n",
    "    \n",
    "    # But how about\n",
    "    import IPython; IPython.embed()\n",
    "    \n",
    "    return x+y+z\n",
    "    \n",
    "complicated_function()"
   ]
  },
  {
   "cell_type": "markdown",
   "metadata": {
    "slideshow": {
     "slide_type": "slide"
    }
   },
   "source": [
    "## Profiling\n",
    "*Find the bottleneck in your code*"
   ]
  },
  {
   "cell_type": "markdown",
   "metadata": {
    "slideshow": {
     "slide_type": "subslide"
    }
   },
   "source": [
    "### Within jupyter notebook"
   ]
  },
  {
   "cell_type": "code",
   "execution_count": null,
   "metadata": {},
   "outputs": [],
   "source": [
    "%%time\n",
    "\n",
    "def upper_func(x):\n",
    "    return x + 1\n",
    "\n",
    "def middle_func(x):\n",
    "    [upper_func(i) for i in range(10000)]\n",
    "    return upper_func(x) + 1\n",
    "\n",
    "def lower_func(x):\n",
    "    return middle_func(x) + 1\n",
    "\n",
    "lower_func(5)"
   ]
  },
  {
   "cell_type": "code",
   "execution_count": null,
   "metadata": {
    "slideshow": {
     "slide_type": "subslide"
    }
   },
   "outputs": [],
   "source": [
    "%%timeit\n",
    "\n",
    "def upper_func(x):\n",
    "    return x + 1\n",
    "\n",
    "def middle_func(x):\n",
    "    [upper_func(i) for i in range(10000)]\n",
    "    return upper_func(x) + 1\n",
    "\n",
    "def lower_func(x):\n",
    "    return middle_func(x) + 1\n",
    "\n",
    "lower_func(5)"
   ]
  },
  {
   "cell_type": "markdown",
   "metadata": {
    "slideshow": {
     "slide_type": "subslide"
    }
   },
   "source": [
    "### Profiling your entire code"
   ]
  },
  {
   "cell_type": "markdown",
   "metadata": {},
   "source": [
    "Try profiling your code using a bash function"
   ]
  },
  {
   "cell_type": "code",
   "execution_count": null,
   "metadata": {},
   "outputs": [],
   "source": [
    "profile() { python3 -m cProfile -o ~/Downloads/temp.profile $1; snakeviz ~/Downloads/temp.profile;}"
   ]
  },
  {
   "cell_type": "markdown",
   "metadata": {
    "slideshow": {
     "slide_type": "subslide"
    }
   },
   "source": [
    "### Lineprofiling your code"
   ]
  },
  {
   "cell_type": "markdown",
   "metadata": {},
   "source": [
    "Or if that's not detailed enough, place the `@profile` decorator above a function in your code, and then run the following"
   ]
  },
  {
   "cell_type": "code",
   "execution_count": null,
   "metadata": {},
   "outputs": [],
   "source": [
    "lineprofile() { kernprof -l -v $1;}"
   ]
  },
  {
   "cell_type": "markdown",
   "metadata": {
    "slideshow": {
     "slide_type": "slide"
    }
   },
   "source": [
    "## Speed up your code\n",
    "*Speed up for-loops*"
   ]
  },
  {
   "cell_type": "markdown",
   "metadata": {
    "slideshow": {
     "slide_type": "subslide"
    }
   },
   "source": [
    "### Ufuncs"
   ]
  },
  {
   "cell_type": "code",
   "execution_count": 9,
   "metadata": {},
   "outputs": [],
   "source": [
    "import numpy as np"
   ]
  },
  {
   "cell_type": "code",
   "execution_count": 10,
   "metadata": {},
   "outputs": [
    {
     "data": {
      "text/plain": [
       "array([ 0.84147098,  0.90929743,  0.14112001, -0.7568025 ])"
      ]
     },
     "execution_count": 10,
     "metadata": {},
     "output_type": "execute_result"
    }
   ],
   "source": [
    "g = np.array([1, 2, 3, 4])\n",
    "np.sin(g) # A numpy ufunc enables a function to work with the whole array"
   ]
  },
  {
   "cell_type": "code",
   "execution_count": 11,
   "metadata": {
    "scrolled": true
   },
   "outputs": [
    {
     "ename": "ValueError",
     "evalue": "The truth value of an array with more than one element is ambiguous. Use a.any() or a.all()",
     "output_type": "error",
     "traceback": [
      "\u001b[0;31m---------------------------------------------------------------------------\u001b[0m",
      "\u001b[0;31mValueError\u001b[0m                                Traceback (most recent call last)",
      "\u001b[0;32m<ipython-input-11-a2ab841a104f>\u001b[0m in \u001b[0;36m<module>\u001b[0;34m\u001b[0m\n\u001b[1;32m      6\u001b[0m \u001b[0;34m\u001b[0m\u001b[0m\n\u001b[1;32m      7\u001b[0m \u001b[0mar\u001b[0m \u001b[0;34m=\u001b[0m \u001b[0mnp\u001b[0m\u001b[0;34m.\u001b[0m\u001b[0marray\u001b[0m\u001b[0;34m(\u001b[0m\u001b[0;34m[\u001b[0m\u001b[0;34m-\u001b[0m\u001b[0;36m10\u001b[0m\u001b[0;34m,\u001b[0m \u001b[0;36m10\u001b[0m\u001b[0;34m,\u001b[0m \u001b[0;36m100\u001b[0m\u001b[0;34m]\u001b[0m\u001b[0;34m)\u001b[0m\u001b[0;34m\u001b[0m\u001b[0;34m\u001b[0m\u001b[0m\n\u001b[0;32m----> 8\u001b[0;31m \u001b[0mstep_function\u001b[0m\u001b[0;34m(\u001b[0m\u001b[0mar\u001b[0m\u001b[0;34m)\u001b[0m\u001b[0;34m\u001b[0m\u001b[0;34m\u001b[0m\u001b[0m\n\u001b[0m",
      "\u001b[0;32m<ipython-input-11-a2ab841a104f>\u001b[0m in \u001b[0;36mstep_function\u001b[0;34m(x)\u001b[0m\n\u001b[1;32m      1\u001b[0m \u001b[0;32mdef\u001b[0m \u001b[0mstep_function\u001b[0m\u001b[0;34m(\u001b[0m\u001b[0mx\u001b[0m\u001b[0;34m)\u001b[0m\u001b[0;34m:\u001b[0m\u001b[0;34m\u001b[0m\u001b[0;34m\u001b[0m\u001b[0m\n\u001b[0;32m----> 2\u001b[0;31m     \u001b[0;32mif\u001b[0m \u001b[0mx\u001b[0m \u001b[0;34m>\u001b[0m \u001b[0;36m0\u001b[0m\u001b[0;34m:\u001b[0m\u001b[0;34m\u001b[0m\u001b[0;34m\u001b[0m\u001b[0m\n\u001b[0m\u001b[1;32m      3\u001b[0m         \u001b[0;32mreturn\u001b[0m \u001b[0;36m1\u001b[0m\u001b[0;34m\u001b[0m\u001b[0;34m\u001b[0m\u001b[0m\n\u001b[1;32m      4\u001b[0m     \u001b[0;32melse\u001b[0m\u001b[0;34m:\u001b[0m\u001b[0;34m\u001b[0m\u001b[0;34m\u001b[0m\u001b[0m\n\u001b[1;32m      5\u001b[0m         \u001b[0;32mreturn\u001b[0m \u001b[0;36m0\u001b[0m\u001b[0;34m\u001b[0m\u001b[0;34m\u001b[0m\u001b[0m\n",
      "\u001b[0;31mValueError\u001b[0m: The truth value of an array with more than one element is ambiguous. Use a.any() or a.all()"
     ]
    }
   ],
   "source": [
    "def step_function(x): # Not a ufunc!\n",
    "    if x > 0:\n",
    "        return 1\n",
    "    else:\n",
    "        return 0\n",
    "\n",
    "ar = np.array([-10, 10, 100])\n",
    "step_function(ar)"
   ]
  },
  {
   "cell_type": "code",
   "execution_count": 12,
   "metadata": {
    "slideshow": {
     "slide_type": "fragment"
    }
   },
   "outputs": [
    {
     "data": {
      "text/plain": [
       "array([0, 1, 1])"
      ]
     },
     "execution_count": 12,
     "metadata": {},
     "output_type": "execute_result"
    }
   ],
   "source": [
    "ustep_function = np.vectorize(step_function) # turns our function into a ufunc\n",
    "\n",
    "ustep_function(ar)"
   ]
  },
  {
   "cell_type": "markdown",
   "metadata": {
    "slideshow": {
     "slide_type": "subslide"
    }
   },
   "source": [
    "### Numba"
   ]
  },
  {
   "cell_type": "code",
   "execution_count": 5,
   "metadata": {},
   "outputs": [
    {
     "name": "stdout",
     "output_type": "stream",
     "text": [
      "CPU times: user 4.75 s, sys: 21.4 ms, total: 4.77 s\n",
      "Wall time: 4.79 s\n"
     ]
    }
   ],
   "source": [
    "ar = np.random.random(12345678)\n",
    "\n",
    "# Silly function\n",
    "def step_function_python(a):\n",
    "    output = np.zeros_like(a)\n",
    "    for i, nr in enumerate(a):\n",
    "        if nr > 0:\n",
    "            output[i] = 1\n",
    "\n",
    "%time step_function_python(ar)"
   ]
  },
  {
   "cell_type": "code",
   "execution_count": 6,
   "metadata": {
    "slideshow": {
     "slide_type": "subslide"
    }
   },
   "outputs": [
    {
     "name": "stdout",
     "output_type": "stream",
     "text": [
      "CPU times: user 45.2 ms, sys: 28.2 ms, total: 73.4 ms\n",
      "Wall time: 71.9 ms\n"
     ]
    }
   ],
   "source": [
    "# Numpy version of step function\n",
    "def step_function_numpy(a):\n",
    "    output = np.zeros_like(a)\n",
    "    a[a > 0] = 1\n",
    "    \n",
    "\n",
    "%time step_function_numpy(ar)"
   ]
  },
  {
   "cell_type": "code",
   "execution_count": 7,
   "metadata": {
    "slideshow": {
     "slide_type": "subslide"
    }
   },
   "outputs": [],
   "source": [
    "import numba as nb"
   ]
  },
  {
   "cell_type": "code",
   "execution_count": 8,
   "metadata": {},
   "outputs": [
    {
     "name": "stdout",
     "output_type": "stream",
     "text": [
      "CPU times: user 210 ms, sys: 55.9 ms, total: 266 ms\n",
      "Wall time: 304 ms\n",
      "CPU times: user 26.5 ms, sys: 18.4 ms, total: 44.9 ms\n",
      "Wall time: 44.8 ms\n",
      "CPU times: user 24.3 ms, sys: 19.9 ms, total: 44.2 ms\n",
      "Wall time: 44 ms\n"
     ]
    }
   ],
   "source": [
    "@nb.jit()\n",
    "def step_function_python(a):\n",
    "    output = np.zeros_like(a)\n",
    "    for i, nr in enumerate(a):\n",
    "        if nr > 0:\n",
    "            output[i] = 1\n",
    "\n",
    "%time step_function_python(ar)\n",
    "%time step_function_python(ar)\n",
    "%time step_function_python(ar)"
   ]
  },
  {
   "cell_type": "markdown",
   "metadata": {
    "slideshow": {
     "slide_type": "slide"
    }
   },
   "source": [
    "## Git(hub)\n",
    "*Version control your software*"
   ]
  },
  {
   "cell_type": "markdown",
   "metadata": {
    "slideshow": {
     "slide_type": "subslide"
    }
   },
   "source": [
    "Everyone should use git. Seriously. You'll no longer need to worry about breaking a working version of your code. Don't worry about learning all the commands - these days there are GUIs like Gitkraken which do the hard work for you."
   ]
  },
  {
   "cell_type": "markdown",
   "metadata": {
    "slideshow": {
     "slide_type": "subslide"
    }
   },
   "source": [
    "![final_version](media/final.png)"
   ]
  },
  {
   "cell_type": "markdown",
   "metadata": {
    "slideshow": {
     "slide_type": "subslide"
    }
   },
   "source": [
    "#### What can it look like?\n",
    "![git](media/git.png)"
   ]
  },
  {
   "cell_type": "markdown",
   "metadata": {
    "slideshow": {
     "slide_type": "subslide"
    }
   },
   "source": [
    "For a full introduction, see [this presentation](https://davidgardenier.com/talks/201710_git.pdf)"
   ]
  },
  {
   "cell_type": "markdown",
   "metadata": {
    "slideshow": {
     "slide_type": "slide"
    }
   },
   "source": [
    "## Github\n",
    "*Backup your code*"
   ]
  },
  {
   "cell_type": "markdown",
   "metadata": {
    "slideshow": {
     "slide_type": "subslide"
    }
   },
   "source": [
    "Want to have a backup of your data? Or collaborate on code without sending having to send through files or code fragments? Check out Github and apply for a Student Developer Pack or an Academic Research Pack.\n",
    "\n",
    "Want to share a snippet of code? Try using gists\n",
    "\n",
    "Want your code to automatically be tested when it arrives on Github? Try linking it up with Travis\n",
    "\n",
    "And want to know which percentage of your code you've tested? Then try Coveralls"
   ]
  },
  {
   "cell_type": "markdown",
   "metadata": {
    "slideshow": {
     "slide_type": "slide"
    }
   },
   "source": [
    "## Publishing code\n",
    "*How to ensure your software is accessible*"
   ]
  },
  {
   "cell_type": "markdown",
   "metadata": {
    "slideshow": {
     "slide_type": "subslide"
    }
   },
   "source": [
    "> Integrity of research depends on transparency and reproducibility\n",
    "\n",
    "Quote by Alice Allen"
   ]
  },
  {
   "cell_type": "markdown",
   "metadata": {
    "slideshow": {
     "slide_type": "subslide"
    }
   },
   "source": [
    "#### Software Citation Principles\n",
    "* Importance | Software is as important as a paper\n",
    "* Credit and attribution | Software should be quoted\n",
    "* Unique identification | Globally unique\n",
    "* Persistence | The identifiers have to persist\n",
    "* Accessibility | The code, data etc, should be available\n",
    "* Specificity | Version of software"
   ]
  },
  {
   "cell_type": "markdown",
   "metadata": {
    "slideshow": {
     "slide_type": "subslide"
    }
   },
   "source": [
    "* Astrophysics Source Code Library (ASCL, ascl.net) | A place to put software"
   ]
  },
  {
   "cell_type": "markdown",
   "metadata": {
    "slideshow": {
     "slide_type": "subslide"
    }
   },
   "source": [
    "What do you need to do?\n",
    "* Release your code\n",
    "* Specify how you want your code to be cited\n",
    "* License your code\n",
    "* Register your code\n",
    "* Archive your code"
   ]
  }
 ],
 "metadata": {
  "celltoolbar": "Slideshow",
  "kernelspec": {
   "display_name": "Python 3",
   "language": "python",
   "name": "python3"
  },
  "toc": {
   "base_numbering": 1,
   "nav_menu": {},
   "number_sections": true,
   "sideBar": false,
   "skip_h1_title": true,
   "title_cell": "Table of Contents",
   "title_sidebar": "Contents",
   "toc_cell": true,
   "toc_position": {
    "height": "930px",
    "left": "81px",
    "top": "188px",
    "width": "384px"
   },
   "toc_section_display": false,
   "toc_window_display": false
  }
 },
 "nbformat": 4,
 "nbformat_minor": 2
}
